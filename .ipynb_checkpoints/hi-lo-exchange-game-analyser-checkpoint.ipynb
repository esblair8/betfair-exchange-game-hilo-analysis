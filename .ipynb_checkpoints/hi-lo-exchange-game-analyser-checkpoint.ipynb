{
 "cells": [
  {
   "cell_type": "code",
   "execution_count": 1,
   "metadata": {},
   "outputs": [],
   "source": [
    "import glob\n",
    "import numpy as np\n",
    "import pandas as pd\n",
    "import matplotlib.pyplot as plt"
   ]
  },
  {
   "cell_type": "code",
   "execution_count": 2,
   "metadata": {},
   "outputs": [],
   "source": [
    "# Use 3 decimal places in output display\n",
    "pd.set_option(\"display.precision\", 3)\n",
    "\n",
    "# Don't wrap repr(DataFrame) across additional lines\n",
    "pd.set_option(\"display.expand_frame_repr\", False)\n",
    "\n",
    "# Set max rows displayed in output to 25\n",
    "pd.set_option(\"display.max_rows\", 50)"
   ]
  },
  {
   "cell_type": "code",
   "execution_count": 3,
   "metadata": {},
   "outputs": [],
   "source": [
    "%matplotlib inline"
   ]
  },
  {
   "cell_type": "code",
   "execution_count": 4,
   "metadata": {},
   "outputs": [],
   "source": [
    "higher_3_starting_lay_odds = float(2.36)\n",
    "higher_3_starting_back_odds = float(2.32)\n",
    "\n",
    "higher_4_starting_lay_odds = float(3.15)\n",
    "higher_4_starting_back_odds = float(3.1)\n",
    "\n",
    "stake = float(1.00)"
   ]
  },
  {
   "cell_type": "code",
   "execution_count": 5,
   "metadata": {},
   "outputs": [],
   "source": [
    "column_names = [ 'game_type', 'game_stream_id', 'market_id', 'date_time', 'round_settled', \n",
    "                'selection_id', 'selection_name', 'win_lose', 'result', 'card_revealed']"
   ]
  },
  {
   "cell_type": "code",
   "execution_count": 6,
   "metadata": {},
   "outputs": [],
   "source": [
    "# data = pd.read_csv('*.csv', names=column_names)\n",
    "data = pd.concat([pd.read_csv(f, names=column_names, ) for f in glob.glob('*.csv')], ignore_index = True)"
   ]
  },
  {
   "cell_type": "code",
   "execution_count": 7,
   "metadata": {},
   "outputs": [
    {
     "data": {
      "text/html": [
       "<div>\n",
       "<style scoped>\n",
       "    .dataframe tbody tr th:only-of-type {\n",
       "        vertical-align: middle;\n",
       "    }\n",
       "\n",
       "    .dataframe tbody tr th {\n",
       "        vertical-align: top;\n",
       "    }\n",
       "\n",
       "    .dataframe thead th {\n",
       "        text-align: right;\n",
       "    }\n",
       "</style>\n",
       "<table border=\"1\" class=\"dataframe\">\n",
       "  <thead>\n",
       "    <tr style=\"text-align: right;\">\n",
       "      <th></th>\n",
       "      <th>game_type</th>\n",
       "      <th>game_stream_id</th>\n",
       "      <th>market_id</th>\n",
       "      <th>date_time</th>\n",
       "      <th>round_settled</th>\n",
       "      <th>selection_id</th>\n",
       "      <th>selection_name</th>\n",
       "      <th>win_lose</th>\n",
       "      <th>result</th>\n",
       "      <th>card_revealed</th>\n",
       "    </tr>\n",
       "  </thead>\n",
       "  <tbody>\n",
       "    <tr>\n",
       "      <th>0</th>\n",
       "      <td>HiLo Standard</td>\n",
       "      <td>1444093</td>\n",
       "      <td>39907968</td>\n",
       "      <td>11/12/2019 00:00</td>\n",
       "      <td>8</td>\n",
       "      <td>1032017</td>\n",
       "      <td>Card 1 or further</td>\n",
       "      <td>W</td>\n",
       "      <td>1</td>\n",
       "      <td>50,40,45,49,43,46,44</td>\n",
       "    </tr>\n",
       "    <tr>\n",
       "      <th>1</th>\n",
       "      <td>HiLo Standard</td>\n",
       "      <td>1444093</td>\n",
       "      <td>39907968</td>\n",
       "      <td>11/12/2019 00:00</td>\n",
       "      <td>8</td>\n",
       "      <td>1032018</td>\n",
       "      <td>Card 2 or further</td>\n",
       "      <td>W</td>\n",
       "      <td>1</td>\n",
       "      <td>50,40,45,49,43,46,44</td>\n",
       "    </tr>\n",
       "    <tr>\n",
       "      <th>2</th>\n",
       "      <td>HiLo Standard</td>\n",
       "      <td>1444093</td>\n",
       "      <td>39907968</td>\n",
       "      <td>11/12/2019 00:00</td>\n",
       "      <td>8</td>\n",
       "      <td>1032019</td>\n",
       "      <td>Card 3 or further</td>\n",
       "      <td>W</td>\n",
       "      <td>1</td>\n",
       "      <td>50,40,45,49,43,46,44</td>\n",
       "    </tr>\n",
       "    <tr>\n",
       "      <th>3</th>\n",
       "      <td>HiLo Standard</td>\n",
       "      <td>1444093</td>\n",
       "      <td>39907968</td>\n",
       "      <td>11/12/2019 00:00</td>\n",
       "      <td>8</td>\n",
       "      <td>1032020</td>\n",
       "      <td>Card 4 or further</td>\n",
       "      <td>W</td>\n",
       "      <td>1</td>\n",
       "      <td>50,40,45,49,43,46,44</td>\n",
       "    </tr>\n",
       "    <tr>\n",
       "      <th>4</th>\n",
       "      <td>HiLo Standard</td>\n",
       "      <td>1444093</td>\n",
       "      <td>39907968</td>\n",
       "      <td>11/12/2019 00:00</td>\n",
       "      <td>8</td>\n",
       "      <td>1032021</td>\n",
       "      <td>Card 5 or further</td>\n",
       "      <td>W</td>\n",
       "      <td>1</td>\n",
       "      <td>50,40,45,49,43,46,44</td>\n",
       "    </tr>\n",
       "  </tbody>\n",
       "</table>\n",
       "</div>"
      ],
      "text/plain": [
       "       game_type  game_stream_id market_id         date_time round_settled selection_id     selection_name win_lose result         card_revealed\n",
       "0  HiLo Standard         1444093  39907968  11/12/2019 00:00             8      1032017  Card 1 or further        W      1  50,40,45,49,43,46,44\n",
       "1  HiLo Standard         1444093  39907968  11/12/2019 00:00             8      1032018  Card 2 or further        W      1  50,40,45,49,43,46,44\n",
       "2  HiLo Standard         1444093  39907968  11/12/2019 00:00             8      1032019  Card 3 or further        W      1  50,40,45,49,43,46,44\n",
       "3  HiLo Standard         1444093  39907968  11/12/2019 00:00             8      1032020  Card 4 or further        W      1  50,40,45,49,43,46,44\n",
       "4  HiLo Standard         1444093  39907968  11/12/2019 00:00             8      1032021  Card 5 or further        W      1  50,40,45,49,43,46,44"
      ]
     },
     "execution_count": 7,
     "metadata": {},
     "output_type": "execute_result"
    }
   ],
   "source": [
    "data.head()"
   ]
  },
  {
   "cell_type": "code",
   "execution_count": 8,
   "metadata": {},
   "outputs": [
    {
     "data": {
      "text/html": [
       "<div>\n",
       "<style scoped>\n",
       "    .dataframe tbody tr th:only-of-type {\n",
       "        vertical-align: middle;\n",
       "    }\n",
       "\n",
       "    .dataframe tbody tr th {\n",
       "        vertical-align: top;\n",
       "    }\n",
       "\n",
       "    .dataframe thead th {\n",
       "        text-align: right;\n",
       "    }\n",
       "</style>\n",
       "<table border=\"1\" class=\"dataframe\">\n",
       "  <thead>\n",
       "    <tr style=\"text-align: right;\">\n",
       "      <th></th>\n",
       "      <th>game_type</th>\n",
       "      <th>game_stream_id</th>\n",
       "      <th>market_id</th>\n",
       "      <th>date_time</th>\n",
       "      <th>round_settled</th>\n",
       "      <th>selection_id</th>\n",
       "      <th>selection_name</th>\n",
       "      <th>win_lose</th>\n",
       "      <th>result</th>\n",
       "      <th>card_revealed</th>\n",
       "    </tr>\n",
       "  </thead>\n",
       "  <tbody>\n",
       "    <tr>\n",
       "      <th>2896107</th>\n",
       "      <td>HiLo Turbo</td>\n",
       "      <td>1444096</td>\n",
       "      <td>39831416</td>\n",
       "      <td>08/12/2019 23:57</td>\n",
       "      <td>6</td>\n",
       "      <td>1032028</td>\n",
       "      <td>2 Card Run</td>\n",
       "      <td>W</td>\n",
       "      <td>1</td>\n",
       "      <td>51,41,42,43,40</td>\n",
       "    </tr>\n",
       "    <tr>\n",
       "      <th>2896108</th>\n",
       "      <td>HiLo Turbo</td>\n",
       "      <td>1444096</td>\n",
       "      <td>39831416</td>\n",
       "      <td>08/12/2019 23:57</td>\n",
       "      <td>6</td>\n",
       "      <td>1032029</td>\n",
       "      <td>3 Card Run</td>\n",
       "      <td>W</td>\n",
       "      <td>1</td>\n",
       "      <td>51,41,42,43,40</td>\n",
       "    </tr>\n",
       "    <tr>\n",
       "      <th>2896109</th>\n",
       "      <td>HiLo Turbo</td>\n",
       "      <td>1444096</td>\n",
       "      <td>39831416</td>\n",
       "      <td>08/12/2019 23:57</td>\n",
       "      <td>6</td>\n",
       "      <td>1032030</td>\n",
       "      <td>4 Card Run</td>\n",
       "      <td>L</td>\n",
       "      <td>0</td>\n",
       "      <td>51,41,42,43,40</td>\n",
       "    </tr>\n",
       "    <tr>\n",
       "      <th>2896110</th>\n",
       "      <td>HiLo Turbo</td>\n",
       "      <td>1444096</td>\n",
       "      <td>39831416</td>\n",
       "      <td>08/12/2019 23:57</td>\n",
       "      <td>6</td>\n",
       "      <td>1032031</td>\n",
       "      <td>No Ace</td>\n",
       "      <td>W</td>\n",
       "      <td>1</td>\n",
       "      <td>51,41,42,43,40</td>\n",
       "    </tr>\n",
       "    <tr>\n",
       "      <th>2896111</th>\n",
       "      <td>HiLo Turbo</td>\n",
       "      <td>1444096</td>\n",
       "      <td>39831416</td>\n",
       "      <td>08/12/2019 23:57</td>\n",
       "      <td>6</td>\n",
       "      <td>1032032</td>\n",
       "      <td>No Picture Cards</td>\n",
       "      <td>L</td>\n",
       "      <td>0</td>\n",
       "      <td>51,41,42,43,40</td>\n",
       "    </tr>\n",
       "  </tbody>\n",
       "</table>\n",
       "</div>"
      ],
      "text/plain": [
       "          game_type  game_stream_id market_id         date_time round_settled selection_id    selection_name win_lose result   card_revealed\n",
       "2896107  HiLo Turbo         1444096  39831416  08/12/2019 23:57             6      1032028        2 Card Run        W      1  51,41,42,43,40\n",
       "2896108  HiLo Turbo         1444096  39831416  08/12/2019 23:57             6      1032029        3 Card Run        W      1  51,41,42,43,40\n",
       "2896109  HiLo Turbo         1444096  39831416  08/12/2019 23:57             6      1032030        4 Card Run        L      0  51,41,42,43,40\n",
       "2896110  HiLo Turbo         1444096  39831416  08/12/2019 23:57             6      1032031            No Ace        W      1  51,41,42,43,40\n",
       "2896111  HiLo Turbo         1444096  39831416  08/12/2019 23:57             6      1032032  No Picture Cards        L      0  51,41,42,43,40"
      ]
     },
     "execution_count": 8,
     "metadata": {},
     "output_type": "execute_result"
    }
   ],
   "source": [
    "turbo_hilo_data = data[data['game_type'] == 'HiLo Turbo']\n",
    "turbo_hilo_data.tail()"
   ]
  },
  {
   "cell_type": "code",
   "execution_count": 9,
   "metadata": {},
   "outputs": [],
   "source": [
    "# turbo_hilo_data.plot(y='round_settled',kind='hist')"
   ]
  },
  {
   "cell_type": "code",
   "execution_count": 10,
   "metadata": {},
   "outputs": [
    {
     "name": "stderr",
     "output_type": "stream",
     "text": [
      "/usr/local/anaconda3/lib/python3.7/site-packages/ipykernel_launcher.py:2: SettingWithCopyWarning: \n",
      "A value is trying to be set on a copy of a slice from a DataFrame.\n",
      "Try using .loc[row_indexer,col_indexer] = value instead\n",
      "\n",
      "See the caveats in the documentation: http://pandas.pydata.org/pandas-docs/stable/indexing.html#indexing-view-versus-copy\n",
      "  \n"
     ]
    }
   ],
   "source": [
    "card_3_or_further = turbo_hilo_data[turbo_hilo_data['selection_name'] == 'Card 3 or further']\n",
    "card_3_or_further['date_time_obj'] = pd.to_datetime(card_3_or_further['date_time'], format=\"%d/%m/%Y %H:%M\")\n",
    "card_3_or_further = card_3_or_further.sort_values(['date_time_obj'])"
   ]
  },
  {
   "cell_type": "code",
   "execution_count": 11,
   "metadata": {},
   "outputs": [
    {
     "data": {
      "text/html": [
       "<div>\n",
       "<style scoped>\n",
       "    .dataframe tbody tr th:only-of-type {\n",
       "        vertical-align: middle;\n",
       "    }\n",
       "\n",
       "    .dataframe tbody tr th {\n",
       "        vertical-align: top;\n",
       "    }\n",
       "\n",
       "    .dataframe thead th {\n",
       "        text-align: right;\n",
       "    }\n",
       "</style>\n",
       "<table border=\"1\" class=\"dataframe\">\n",
       "  <thead>\n",
       "    <tr style=\"text-align: right;\">\n",
       "      <th></th>\n",
       "      <th>game_type</th>\n",
       "      <th>game_stream_id</th>\n",
       "      <th>market_id</th>\n",
       "      <th>date_time</th>\n",
       "      <th>round_settled</th>\n",
       "      <th>selection_id</th>\n",
       "      <th>selection_name</th>\n",
       "      <th>win_lose</th>\n",
       "      <th>result</th>\n",
       "      <th>card_revealed</th>\n",
       "      <th>date_time_obj</th>\n",
       "    </tr>\n",
       "  </thead>\n",
       "  <tbody>\n",
       "    <tr>\n",
       "      <th>2311755</th>\n",
       "      <td>HiLo Turbo</td>\n",
       "      <td>1444096</td>\n",
       "      <td>33764951</td>\n",
       "      <td>01/07/2019 00:00</td>\n",
       "      <td>12</td>\n",
       "      <td>1032020</td>\n",
       "      <td>Card 4 or further</td>\n",
       "      <td>W</td>\n",
       "      <td>1</td>\n",
       "      <td>51,50,41,46,45,47,42,39,44,48,49</td>\n",
       "      <td>2019-07-01 00:00:00</td>\n",
       "    </tr>\n",
       "    <tr>\n",
       "      <th>2311771</th>\n",
       "      <td>HiLo Turbo</td>\n",
       "      <td>1444096</td>\n",
       "      <td>33765035</td>\n",
       "      <td>01/07/2019 00:01</td>\n",
       "      <td>4</td>\n",
       "      <td>1032020</td>\n",
       "      <td>Card 4 or further</td>\n",
       "      <td>L</td>\n",
       "      <td>0</td>\n",
       "      <td>51,47,48</td>\n",
       "      <td>2019-07-01 00:01:00</td>\n",
       "    </tr>\n",
       "    <tr>\n",
       "      <th>2311819</th>\n",
       "      <td>HiLo Turbo</td>\n",
       "      <td>1444096</td>\n",
       "      <td>33765154</td>\n",
       "      <td>01/07/2019 00:03</td>\n",
       "      <td>4</td>\n",
       "      <td>1032020</td>\n",
       "      <td>Card 4 or further</td>\n",
       "      <td>L</td>\n",
       "      <td>0</td>\n",
       "      <td>45,46,44</td>\n",
       "      <td>2019-07-01 00:03:00</td>\n",
       "    </tr>\n",
       "    <tr>\n",
       "      <th>2311857</th>\n",
       "      <td>HiLo Turbo</td>\n",
       "      <td>1444096</td>\n",
       "      <td>33765241</td>\n",
       "      <td>01/07/2019 00:06</td>\n",
       "      <td>4</td>\n",
       "      <td>1032020</td>\n",
       "      <td>Card 4 or further</td>\n",
       "      <td>L</td>\n",
       "      <td>0</td>\n",
       "      <td>41,46,43</td>\n",
       "      <td>2019-07-01 00:06:00</td>\n",
       "    </tr>\n",
       "    <tr>\n",
       "      <th>2311926</th>\n",
       "      <td>HiLo Turbo</td>\n",
       "      <td>1444096</td>\n",
       "      <td>33765439</td>\n",
       "      <td>01/07/2019 00:13</td>\n",
       "      <td>5</td>\n",
       "      <td>1032020</td>\n",
       "      <td>Card 4 or further</td>\n",
       "      <td>L</td>\n",
       "      <td>0</td>\n",
       "      <td>45,39,47,51</td>\n",
       "      <td>2019-07-01 00:13:00</td>\n",
       "    </tr>\n",
       "  </tbody>\n",
       "</table>\n",
       "</div>"
      ],
      "text/plain": [
       "          game_type  game_stream_id market_id         date_time round_settled selection_id     selection_name win_lose result                     card_revealed       date_time_obj\n",
       "2311755  HiLo Turbo         1444096  33764951  01/07/2019 00:00            12      1032020  Card 4 or further        W      1  51,50,41,46,45,47,42,39,44,48,49 2019-07-01 00:00:00\n",
       "2311771  HiLo Turbo         1444096  33765035  01/07/2019 00:01             4      1032020  Card 4 or further        L      0                          51,47,48 2019-07-01 00:01:00\n",
       "2311819  HiLo Turbo         1444096  33765154  01/07/2019 00:03             4      1032020  Card 4 or further        L      0                          45,46,44 2019-07-01 00:03:00\n",
       "2311857  HiLo Turbo         1444096  33765241  01/07/2019 00:06             4      1032020  Card 4 or further        L      0                          41,46,43 2019-07-01 00:06:00\n",
       "2311926  HiLo Turbo         1444096  33765439  01/07/2019 00:13             5      1032020  Card 4 or further        L      0                       45,39,47,51 2019-07-01 00:13:00"
      ]
     },
     "execution_count": 11,
     "metadata": {},
     "output_type": "execute_result"
    }
   ],
   "source": [
    "card_3_or_further.head()"
   ]
  },
  {
   "cell_type": "code",
   "execution_count": 12,
   "metadata": {},
   "outputs": [
    {
     "data": {
      "text/html": [
       "<div>\n",
       "<style scoped>\n",
       "    .dataframe tbody tr th:only-of-type {\n",
       "        vertical-align: middle;\n",
       "    }\n",
       "\n",
       "    .dataframe tbody tr th {\n",
       "        vertical-align: top;\n",
       "    }\n",
       "\n",
       "    .dataframe thead th {\n",
       "        text-align: right;\n",
       "    }\n",
       "</style>\n",
       "<table border=\"1\" class=\"dataframe\">\n",
       "  <thead>\n",
       "    <tr style=\"text-align: right;\">\n",
       "      <th></th>\n",
       "      <th>game_type</th>\n",
       "      <th>game_stream_id</th>\n",
       "      <th>market_id</th>\n",
       "      <th>date_time</th>\n",
       "      <th>round_settled</th>\n",
       "      <th>selection_id</th>\n",
       "      <th>selection_name</th>\n",
       "      <th>win_lose</th>\n",
       "      <th>result</th>\n",
       "      <th>card_revealed</th>\n",
       "      <th>date_time_obj</th>\n",
       "    </tr>\n",
       "  </thead>\n",
       "  <tbody>\n",
       "    <tr>\n",
       "      <th>128245</th>\n",
       "      <td>HiLo Turbo</td>\n",
       "      <td>1444096</td>\n",
       "      <td>44419444</td>\n",
       "      <td>06/04/2020 23:27</td>\n",
       "      <td>5</td>\n",
       "      <td>1032020</td>\n",
       "      <td>Card 4 or further</td>\n",
       "      <td>L</td>\n",
       "      <td>0</td>\n",
       "      <td>42,45,47,44</td>\n",
       "      <td>2020-04-06 23:27:00</td>\n",
       "    </tr>\n",
       "    <tr>\n",
       "      <th>128277</th>\n",
       "      <td>HiLo Turbo</td>\n",
       "      <td>1444096</td>\n",
       "      <td>44419550</td>\n",
       "      <td>06/04/2020 23:30</td>\n",
       "      <td>12</td>\n",
       "      <td>1032020</td>\n",
       "      <td>Card 4 or further</td>\n",
       "      <td>W</td>\n",
       "      <td>1</td>\n",
       "      <td>41,51,44,39,47,46,43,50,49,48,40,42,45</td>\n",
       "      <td>2020-04-06 23:30:00</td>\n",
       "    </tr>\n",
       "    <tr>\n",
       "      <th>128293</th>\n",
       "      <td>HiLo Turbo</td>\n",
       "      <td>1444096</td>\n",
       "      <td>44419595</td>\n",
       "      <td>06/04/2020 23:34</td>\n",
       "      <td>11</td>\n",
       "      <td>1032020</td>\n",
       "      <td>Card 4 or further</td>\n",
       "      <td>W</td>\n",
       "      <td>1</td>\n",
       "      <td>42,50,46,51,43,45,39,48,44,41</td>\n",
       "      <td>2020-04-06 23:34:00</td>\n",
       "    </tr>\n",
       "    <tr>\n",
       "      <th>128389</th>\n",
       "      <td>HiLo Turbo</td>\n",
       "      <td>1444096</td>\n",
       "      <td>44419966</td>\n",
       "      <td>06/04/2020 23:50</td>\n",
       "      <td>7</td>\n",
       "      <td>1032020</td>\n",
       "      <td>Card 4 or further</td>\n",
       "      <td>W</td>\n",
       "      <td>1</td>\n",
       "      <td>41,42,45,50,49,51</td>\n",
       "      <td>2020-04-06 23:50:00</td>\n",
       "    </tr>\n",
       "    <tr>\n",
       "      <th>128410</th>\n",
       "      <td>HiLo Turbo</td>\n",
       "      <td>1444096</td>\n",
       "      <td>44420089</td>\n",
       "      <td>06/04/2020 23:53</td>\n",
       "      <td>12</td>\n",
       "      <td>1032020</td>\n",
       "      <td>Card 4 or further</td>\n",
       "      <td>W</td>\n",
       "      <td>1</td>\n",
       "      <td>43,39,41,42,45,48,44,47,50,40,51,49,46</td>\n",
       "      <td>2020-04-06 23:53:00</td>\n",
       "    </tr>\n",
       "  </tbody>\n",
       "</table>\n",
       "</div>"
      ],
      "text/plain": [
       "         game_type  game_stream_id market_id         date_time round_settled selection_id     selection_name win_lose result                           card_revealed       date_time_obj\n",
       "128245  HiLo Turbo         1444096  44419444  06/04/2020 23:27             5      1032020  Card 4 or further        L      0                             42,45,47,44 2020-04-06 23:27:00\n",
       "128277  HiLo Turbo         1444096  44419550  06/04/2020 23:30            12      1032020  Card 4 or further        W      1  41,51,44,39,47,46,43,50,49,48,40,42,45 2020-04-06 23:30:00\n",
       "128293  HiLo Turbo         1444096  44419595  06/04/2020 23:34            11      1032020  Card 4 or further        W      1           42,50,46,51,43,45,39,48,44,41 2020-04-06 23:34:00\n",
       "128389  HiLo Turbo         1444096  44419966  06/04/2020 23:50             7      1032020  Card 4 or further        W      1                       41,42,45,50,49,51 2020-04-06 23:50:00\n",
       "128410  HiLo Turbo         1444096  44420089  06/04/2020 23:53            12      1032020  Card 4 or further        W      1  43,39,41,42,45,48,44,47,50,40,51,49,46 2020-04-06 23:53:00"
      ]
     },
     "execution_count": 12,
     "metadata": {},
     "output_type": "execute_result"
    }
   ],
   "source": [
    "card_3_or_further.tail()"
   ]
  },
  {
   "cell_type": "code",
   "execution_count": 13,
   "metadata": {},
   "outputs": [],
   "source": [
    "def back_profit_loss(win_lose):\n",
    "    if win_lose == 'W':\n",
    "        return  float((higher_3_starting_back_oddsr * stake) - stake) * 0.98\n",
    "    else:\n",
    "        return float(-1 * stake)"
   ]
  },
  {
   "cell_type": "code",
   "execution_count": 14,
   "metadata": {},
   "outputs": [
    {
     "data": {
      "text/plain": [
       "(2.1, -1.0)"
      ]
     },
     "execution_count": 14,
     "metadata": {},
     "output_type": "execute_result"
    }
   ],
   "source": [
    "(back_profit_loss('W'), back_profit_loss('L'))"
   ]
  },
  {
   "cell_type": "code",
   "execution_count": 15,
   "metadata": {},
   "outputs": [],
   "source": [
    "def laying_profit_loss(win_lose):\n",
    "    if win_lose == 'W':\n",
    "        return  float(-1 * (higher_3_starting_lay_odds * stake) + stake)\n",
    "    else:\n",
    "        return float(stake) * 0.98"
   ]
  },
  {
   "cell_type": "code",
   "execution_count": 16,
   "metadata": {},
   "outputs": [
    {
     "data": {
      "text/plain": [
       "(-2.15, 1.0)"
      ]
     },
     "execution_count": 16,
     "metadata": {},
     "output_type": "execute_result"
    }
   ],
   "source": [
    "(laying_profit_loss('W'), laying_profit_loss('L'))"
   ]
  },
  {
   "cell_type": "code",
   "execution_count": 17,
   "metadata": {},
   "outputs": [],
   "source": [
    "pl_lay_data =  card_3_or_further.apply(lambda x: (laying_profit_loss(x['win_lose'])),axis=1).to_frame(name='laying_profit_loss')\n",
    "pl_back_data =  card_3_or_further.apply(lambda x: (back_profit_loss(x['win_lose'])),axis=1).to_frame(name='backing_profit_loss')"
   ]
  },
  {
   "cell_type": "code",
   "execution_count": 18,
   "metadata": {},
   "outputs": [
    {
     "data": {
      "text/html": [
       "<div>\n",
       "<style scoped>\n",
       "    .dataframe tbody tr th:only-of-type {\n",
       "        vertical-align: middle;\n",
       "    }\n",
       "\n",
       "    .dataframe tbody tr th {\n",
       "        vertical-align: top;\n",
       "    }\n",
       "\n",
       "    .dataframe thead th {\n",
       "        text-align: right;\n",
       "    }\n",
       "</style>\n",
       "<table border=\"1\" class=\"dataframe\">\n",
       "  <thead>\n",
       "    <tr style=\"text-align: right;\">\n",
       "      <th></th>\n",
       "      <th>laying_profit_loss</th>\n",
       "    </tr>\n",
       "  </thead>\n",
       "  <tbody>\n",
       "    <tr>\n",
       "      <th>2311755</th>\n",
       "      <td>-2.15</td>\n",
       "    </tr>\n",
       "    <tr>\n",
       "      <th>2311771</th>\n",
       "      <td>1.00</td>\n",
       "    </tr>\n",
       "    <tr>\n",
       "      <th>2311819</th>\n",
       "      <td>1.00</td>\n",
       "    </tr>\n",
       "    <tr>\n",
       "      <th>2311857</th>\n",
       "      <td>1.00</td>\n",
       "    </tr>\n",
       "    <tr>\n",
       "      <th>2311926</th>\n",
       "      <td>1.00</td>\n",
       "    </tr>\n",
       "  </tbody>\n",
       "</table>\n",
       "</div>"
      ],
      "text/plain": [
       "         laying_profit_loss\n",
       "2311755               -2.15\n",
       "2311771                1.00\n",
       "2311819                1.00\n",
       "2311857                1.00\n",
       "2311926                1.00"
      ]
     },
     "execution_count": 18,
     "metadata": {},
     "output_type": "execute_result"
    }
   ],
   "source": [
    "pl_lay_data.head()"
   ]
  },
  {
   "cell_type": "code",
   "execution_count": 19,
   "metadata": {},
   "outputs": [
    {
     "data": {
      "text/html": [
       "<div>\n",
       "<style scoped>\n",
       "    .dataframe tbody tr th:only-of-type {\n",
       "        vertical-align: middle;\n",
       "    }\n",
       "\n",
       "    .dataframe tbody tr th {\n",
       "        vertical-align: top;\n",
       "    }\n",
       "\n",
       "    .dataframe thead th {\n",
       "        text-align: right;\n",
       "    }\n",
       "</style>\n",
       "<table border=\"1\" class=\"dataframe\">\n",
       "  <thead>\n",
       "    <tr style=\"text-align: right;\">\n",
       "      <th></th>\n",
       "      <th>backing_profit_loss</th>\n",
       "    </tr>\n",
       "  </thead>\n",
       "  <tbody>\n",
       "    <tr>\n",
       "      <th>2311755</th>\n",
       "      <td>2.1</td>\n",
       "    </tr>\n",
       "    <tr>\n",
       "      <th>2311771</th>\n",
       "      <td>-1.0</td>\n",
       "    </tr>\n",
       "    <tr>\n",
       "      <th>2311819</th>\n",
       "      <td>-1.0</td>\n",
       "    </tr>\n",
       "    <tr>\n",
       "      <th>2311857</th>\n",
       "      <td>-1.0</td>\n",
       "    </tr>\n",
       "    <tr>\n",
       "      <th>2311926</th>\n",
       "      <td>-1.0</td>\n",
       "    </tr>\n",
       "  </tbody>\n",
       "</table>\n",
       "</div>"
      ],
      "text/plain": [
       "         backing_profit_loss\n",
       "2311755                  2.1\n",
       "2311771                 -1.0\n",
       "2311819                 -1.0\n",
       "2311857                 -1.0\n",
       "2311926                 -1.0"
      ]
     },
     "execution_count": 19,
     "metadata": {},
     "output_type": "execute_result"
    }
   ],
   "source": [
    "pl_back_data.head()"
   ]
  },
  {
   "cell_type": "code",
   "execution_count": 20,
   "metadata": {},
   "outputs": [
    {
     "data": {
      "text/html": [
       "<div>\n",
       "<style scoped>\n",
       "    .dataframe tbody tr th:only-of-type {\n",
       "        vertical-align: middle;\n",
       "    }\n",
       "\n",
       "    .dataframe tbody tr th {\n",
       "        vertical-align: top;\n",
       "    }\n",
       "\n",
       "    .dataframe thead th {\n",
       "        text-align: right;\n",
       "    }\n",
       "</style>\n",
       "<table border=\"1\" class=\"dataframe\">\n",
       "  <thead>\n",
       "    <tr style=\"text-align: right;\">\n",
       "      <th></th>\n",
       "      <th>laying_profit_loss</th>\n",
       "      <th>cum_profit_laying</th>\n",
       "    </tr>\n",
       "  </thead>\n",
       "  <tbody>\n",
       "    <tr>\n",
       "      <th>2311755</th>\n",
       "      <td>-2.15</td>\n",
       "      <td>-2.15</td>\n",
       "    </tr>\n",
       "    <tr>\n",
       "      <th>2311771</th>\n",
       "      <td>1.00</td>\n",
       "      <td>-1.15</td>\n",
       "    </tr>\n",
       "    <tr>\n",
       "      <th>2311819</th>\n",
       "      <td>1.00</td>\n",
       "      <td>-0.15</td>\n",
       "    </tr>\n",
       "    <tr>\n",
       "      <th>2311857</th>\n",
       "      <td>1.00</td>\n",
       "      <td>0.85</td>\n",
       "    </tr>\n",
       "    <tr>\n",
       "      <th>2311926</th>\n",
       "      <td>1.00</td>\n",
       "      <td>1.85</td>\n",
       "    </tr>\n",
       "  </tbody>\n",
       "</table>\n",
       "</div>"
      ],
      "text/plain": [
       "         laying_profit_loss  cum_profit_laying\n",
       "2311755               -2.15              -2.15\n",
       "2311771                1.00              -1.15\n",
       "2311819                1.00              -0.15\n",
       "2311857                1.00               0.85\n",
       "2311926                1.00               1.85"
      ]
     },
     "execution_count": 20,
     "metadata": {},
     "output_type": "execute_result"
    }
   ],
   "source": [
    "pl_lay_data['cum_profit_laying'] = pl_lay_data.cumsum()\n",
    "pl_lay_data.head()"
   ]
  },
  {
   "cell_type": "code",
   "execution_count": 21,
   "metadata": {},
   "outputs": [
    {
     "data": {
      "text/html": [
       "<div>\n",
       "<style scoped>\n",
       "    .dataframe tbody tr th:only-of-type {\n",
       "        vertical-align: middle;\n",
       "    }\n",
       "\n",
       "    .dataframe tbody tr th {\n",
       "        vertical-align: top;\n",
       "    }\n",
       "\n",
       "    .dataframe thead th {\n",
       "        text-align: right;\n",
       "    }\n",
       "</style>\n",
       "<table border=\"1\" class=\"dataframe\">\n",
       "  <thead>\n",
       "    <tr style=\"text-align: right;\">\n",
       "      <th></th>\n",
       "      <th>backing_profit_loss</th>\n",
       "      <th>cum_profit_backing</th>\n",
       "    </tr>\n",
       "  </thead>\n",
       "  <tbody>\n",
       "    <tr>\n",
       "      <th>2311755</th>\n",
       "      <td>2.1</td>\n",
       "      <td>2.1</td>\n",
       "    </tr>\n",
       "    <tr>\n",
       "      <th>2311771</th>\n",
       "      <td>-1.0</td>\n",
       "      <td>1.1</td>\n",
       "    </tr>\n",
       "    <tr>\n",
       "      <th>2311819</th>\n",
       "      <td>-1.0</td>\n",
       "      <td>0.1</td>\n",
       "    </tr>\n",
       "    <tr>\n",
       "      <th>2311857</th>\n",
       "      <td>-1.0</td>\n",
       "      <td>-0.9</td>\n",
       "    </tr>\n",
       "    <tr>\n",
       "      <th>2311926</th>\n",
       "      <td>-1.0</td>\n",
       "      <td>-1.9</td>\n",
       "    </tr>\n",
       "  </tbody>\n",
       "</table>\n",
       "</div>"
      ],
      "text/plain": [
       "         backing_profit_loss  cum_profit_backing\n",
       "2311755                  2.1                 2.1\n",
       "2311771                 -1.0                 1.1\n",
       "2311819                 -1.0                 0.1\n",
       "2311857                 -1.0                -0.9\n",
       "2311926                 -1.0                -1.9"
      ]
     },
     "execution_count": 21,
     "metadata": {},
     "output_type": "execute_result"
    }
   ],
   "source": [
    "pl_back_data['cum_profit_backing'] = pl_back_data.cumsum()\n",
    "pl_back_data.head()"
   ]
  },
  {
   "cell_type": "code",
   "execution_count": 22,
   "metadata": {},
   "outputs": [],
   "source": [
    "joined_pl_data = card_3_or_further.join(pl_lay_data).join(pl_back_data)"
   ]
  },
  {
   "cell_type": "code",
   "execution_count": 23,
   "metadata": {},
   "outputs": [
    {
     "data": {
      "text/html": [
       "<div>\n",
       "<style scoped>\n",
       "    .dataframe tbody tr th:only-of-type {\n",
       "        vertical-align: middle;\n",
       "    }\n",
       "\n",
       "    .dataframe tbody tr th {\n",
       "        vertical-align: top;\n",
       "    }\n",
       "\n",
       "    .dataframe thead th {\n",
       "        text-align: right;\n",
       "    }\n",
       "</style>\n",
       "<table border=\"1\" class=\"dataframe\">\n",
       "  <thead>\n",
       "    <tr style=\"text-align: right;\">\n",
       "      <th></th>\n",
       "      <th>game_type</th>\n",
       "      <th>game_stream_id</th>\n",
       "      <th>market_id</th>\n",
       "      <th>date_time</th>\n",
       "      <th>round_settled</th>\n",
       "      <th>selection_id</th>\n",
       "      <th>selection_name</th>\n",
       "      <th>win_lose</th>\n",
       "      <th>result</th>\n",
       "      <th>card_revealed</th>\n",
       "      <th>date_time_obj</th>\n",
       "      <th>laying_profit_loss</th>\n",
       "      <th>cum_profit_laying</th>\n",
       "      <th>backing_profit_loss</th>\n",
       "      <th>cum_profit_backing</th>\n",
       "    </tr>\n",
       "  </thead>\n",
       "  <tbody>\n",
       "    <tr>\n",
       "      <th>2311755</th>\n",
       "      <td>HiLo Turbo</td>\n",
       "      <td>1444096</td>\n",
       "      <td>33764951</td>\n",
       "      <td>01/07/2019 00:00</td>\n",
       "      <td>12</td>\n",
       "      <td>1032020</td>\n",
       "      <td>Card 4 or further</td>\n",
       "      <td>W</td>\n",
       "      <td>1</td>\n",
       "      <td>51,50,41,46,45,47,42,39,44,48,49</td>\n",
       "      <td>2019-07-01 00:00:00</td>\n",
       "      <td>-2.15</td>\n",
       "      <td>-2.15</td>\n",
       "      <td>2.1</td>\n",
       "      <td>2.1</td>\n",
       "    </tr>\n",
       "    <tr>\n",
       "      <th>2311771</th>\n",
       "      <td>HiLo Turbo</td>\n",
       "      <td>1444096</td>\n",
       "      <td>33765035</td>\n",
       "      <td>01/07/2019 00:01</td>\n",
       "      <td>4</td>\n",
       "      <td>1032020</td>\n",
       "      <td>Card 4 or further</td>\n",
       "      <td>L</td>\n",
       "      <td>0</td>\n",
       "      <td>51,47,48</td>\n",
       "      <td>2019-07-01 00:01:00</td>\n",
       "      <td>1.00</td>\n",
       "      <td>-1.15</td>\n",
       "      <td>-1.0</td>\n",
       "      <td>1.1</td>\n",
       "    </tr>\n",
       "    <tr>\n",
       "      <th>2311819</th>\n",
       "      <td>HiLo Turbo</td>\n",
       "      <td>1444096</td>\n",
       "      <td>33765154</td>\n",
       "      <td>01/07/2019 00:03</td>\n",
       "      <td>4</td>\n",
       "      <td>1032020</td>\n",
       "      <td>Card 4 or further</td>\n",
       "      <td>L</td>\n",
       "      <td>0</td>\n",
       "      <td>45,46,44</td>\n",
       "      <td>2019-07-01 00:03:00</td>\n",
       "      <td>1.00</td>\n",
       "      <td>-0.15</td>\n",
       "      <td>-1.0</td>\n",
       "      <td>0.1</td>\n",
       "    </tr>\n",
       "    <tr>\n",
       "      <th>2311857</th>\n",
       "      <td>HiLo Turbo</td>\n",
       "      <td>1444096</td>\n",
       "      <td>33765241</td>\n",
       "      <td>01/07/2019 00:06</td>\n",
       "      <td>4</td>\n",
       "      <td>1032020</td>\n",
       "      <td>Card 4 or further</td>\n",
       "      <td>L</td>\n",
       "      <td>0</td>\n",
       "      <td>41,46,43</td>\n",
       "      <td>2019-07-01 00:06:00</td>\n",
       "      <td>1.00</td>\n",
       "      <td>0.85</td>\n",
       "      <td>-1.0</td>\n",
       "      <td>-0.9</td>\n",
       "    </tr>\n",
       "    <tr>\n",
       "      <th>2311926</th>\n",
       "      <td>HiLo Turbo</td>\n",
       "      <td>1444096</td>\n",
       "      <td>33765439</td>\n",
       "      <td>01/07/2019 00:13</td>\n",
       "      <td>5</td>\n",
       "      <td>1032020</td>\n",
       "      <td>Card 4 or further</td>\n",
       "      <td>L</td>\n",
       "      <td>0</td>\n",
       "      <td>45,39,47,51</td>\n",
       "      <td>2019-07-01 00:13:00</td>\n",
       "      <td>1.00</td>\n",
       "      <td>1.85</td>\n",
       "      <td>-1.0</td>\n",
       "      <td>-1.9</td>\n",
       "    </tr>\n",
       "  </tbody>\n",
       "</table>\n",
       "</div>"
      ],
      "text/plain": [
       "          game_type  game_stream_id market_id         date_time round_settled selection_id     selection_name win_lose result                     card_revealed       date_time_obj  laying_profit_loss  cum_profit_laying  backing_profit_loss  cum_profit_backing\n",
       "2311755  HiLo Turbo         1444096  33764951  01/07/2019 00:00            12      1032020  Card 4 or further        W      1  51,50,41,46,45,47,42,39,44,48,49 2019-07-01 00:00:00               -2.15              -2.15                  2.1                 2.1\n",
       "2311771  HiLo Turbo         1444096  33765035  01/07/2019 00:01             4      1032020  Card 4 or further        L      0                          51,47,48 2019-07-01 00:01:00                1.00              -1.15                 -1.0                 1.1\n",
       "2311819  HiLo Turbo         1444096  33765154  01/07/2019 00:03             4      1032020  Card 4 or further        L      0                          45,46,44 2019-07-01 00:03:00                1.00              -0.15                 -1.0                 0.1\n",
       "2311857  HiLo Turbo         1444096  33765241  01/07/2019 00:06             4      1032020  Card 4 or further        L      0                          41,46,43 2019-07-01 00:06:00                1.00               0.85                 -1.0                -0.9\n",
       "2311926  HiLo Turbo         1444096  33765439  01/07/2019 00:13             5      1032020  Card 4 or further        L      0                       45,39,47,51 2019-07-01 00:13:00                1.00               1.85                 -1.0                -1.9"
      ]
     },
     "execution_count": 23,
     "metadata": {},
     "output_type": "execute_result"
    }
   ],
   "source": [
    "joined_pl_data.head()"
   ]
  },
  {
   "cell_type": "code",
   "execution_count": 24,
   "metadata": {},
   "outputs": [],
   "source": [
    "grouped_data = joined_pl_data.groupby(['win_lose']).sum()"
   ]
  },
  {
   "cell_type": "code",
   "execution_count": 25,
   "metadata": {},
   "outputs": [
    {
     "data": {
      "text/html": [
       "<div>\n",
       "<style scoped>\n",
       "    .dataframe tbody tr th:only-of-type {\n",
       "        vertical-align: middle;\n",
       "    }\n",
       "\n",
       "    .dataframe tbody tr th {\n",
       "        vertical-align: top;\n",
       "    }\n",
       "\n",
       "    .dataframe thead th {\n",
       "        text-align: right;\n",
       "    }\n",
       "</style>\n",
       "<table border=\"1\" class=\"dataframe\">\n",
       "  <thead>\n",
       "    <tr style=\"text-align: right;\">\n",
       "      <th></th>\n",
       "      <th>game_stream_id</th>\n",
       "      <th>laying_profit_loss</th>\n",
       "      <th>cum_profit_laying</th>\n",
       "      <th>backing_profit_loss</th>\n",
       "      <th>cum_profit_backing</th>\n",
       "    </tr>\n",
       "    <tr>\n",
       "      <th>win_lose</th>\n",
       "      <th></th>\n",
       "      <th></th>\n",
       "      <th></th>\n",
       "      <th></th>\n",
       "      <th></th>\n",
       "    </tr>\n",
       "  </thead>\n",
       "  <tbody>\n",
       "    <tr>\n",
       "      <th>L</th>\n",
       "      <td>91151339520</td>\n",
       "      <td>63120.0</td>\n",
       "      <td>-4.584e+07</td>\n",
       "      <td>-63120.0</td>\n",
       "      <td>-1.551e+06</td>\n",
       "    </tr>\n",
       "    <tr>\n",
       "      <th>W</th>\n",
       "      <td>43340209152</td>\n",
       "      <td>-64525.8</td>\n",
       "      <td>-2.183e+07</td>\n",
       "      <td>63025.2</td>\n",
       "      <td>-6.897e+05</td>\n",
       "    </tr>\n",
       "  </tbody>\n",
       "</table>\n",
       "</div>"
      ],
      "text/plain": [
       "          game_stream_id  laying_profit_loss  cum_profit_laying  backing_profit_loss  cum_profit_backing\n",
       "win_lose                                                                                                \n",
       "L            91151339520             63120.0         -4.584e+07             -63120.0          -1.551e+06\n",
       "W            43340209152            -64525.8         -2.183e+07              63025.2          -6.897e+05"
      ]
     },
     "execution_count": 25,
     "metadata": {},
     "output_type": "execute_result"
    }
   ],
   "source": [
    "grouped_data   "
   ]
  },
  {
   "cell_type": "code",
   "execution_count": 26,
   "metadata": {},
   "outputs": [
    {
     "data": {
      "text/plain": [
       "<matplotlib.axes._subplots.AxesSubplot at 0x124e24c50>"
      ]
     },
     "execution_count": 26,
     "metadata": {},
     "output_type": "execute_result"
    },
    {
     "data": {
      "image/png": "[encoded data removed]",
      "text/plain": [
       "<Figure size 1440x720 with 1 Axes>"
      ]
     },
     "metadata": {
      "needs_background": "light"
     },
     "output_type": "display_data"
    }
   ],
   "source": [
    "joined_pl_data.plot(x='date_time', y='cum_profit_laying',figsize=(20, 10))"
   ]
  },
  {
   "cell_type": "code",
   "execution_count": 27,
   "metadata": {},
   "outputs": [
    {
     "data": {
      "text/plain": [
       "<matplotlib.axes._subplots.AxesSubplot at 0x12affe978>"
      ]
     },
     "execution_count": 27,
     "metadata": {},
     "output_type": "execute_result"
    },
    {
     "data": {
      "image/png": "[encoded data removed]",
      "text/plain": [
       "<Figure size 1440x720 with 1 Axes>"
      ]
     },
     "metadata": {
      "needs_background": "light"
     },
     "output_type": "display_data"
    }
   ],
   "source": [
    "joined_pl_data.plot(x='date_time', y='cum_profit_backing',figsize=(20, 10))"
   ]
  },
  {
   "cell_type": "code",
   "execution_count": null,
   "metadata": {},
   "outputs": [],
   "source": []
  },
  {
   "cell_type": "code",
   "execution_count": null,
   "metadata": {},
   "outputs": [],
   "source": []
  },
  {
   "cell_type": "code",
   "execution_count": null,
   "metadata": {},
   "outputs": [],
   "source": []
  }
 ],
 "metadata": {
  "kernelspec": {
   "display_name": "Python 3",
   "language": "python",
   "name": "python3"
  },
  "language_info": {
   "codemirror_mode": {
    "name": "ipython",
    "version": 3
   },
   "file_extension": ".py",
   "mimetype": "text/x-python",
   "name": "python",
   "nbconvert_exporter": "python",
   "pygments_lexer": "ipython3",
   "version": "3.7.3"
  }
 },
 "nbformat": 4,
 "nbformat_minor": 2
}
